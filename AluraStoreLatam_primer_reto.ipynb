{
  "cells": [
    {
      "cell_type": "markdown",
      "metadata": {
        "id": "RhEdWd9YUR6H"
      },
      "source": [
        "### Importación de datos\n",
        "\n"
      ]
    },
    {
      "cell_type": "code",
      "execution_count": null,
      "metadata": {
        "colab": {
          "base_uri": "https://localhost:8080/",
          "height": 293
        },
        "id": "T3EvaeQ_INIL",
        "outputId": "4801418b-435b-4246-8b42-88bab0f84137"
      },
      "outputs": [
        {
          "output_type": "execute_result",
          "data": {
            "text/plain": [
              "            Producto Categoría del Producto    Precio  Costo de envío  \\\n",
              "0  Asistente virtual           Electrónicos  164300.0          6900.0   \n",
              "1    Mesa de comedor                Muebles  192300.0          8400.0   \n",
              "2      Juego de mesa               Juguetes  209600.0         15900.0   \n",
              "3         Microondas      Electrodomésticos  757500.0         41000.0   \n",
              "4   Silla de oficina                Muebles  335200.0         20200.0   \n",
              "\n",
              "  Fecha de Compra         Vendedor Lugar de Compra  Calificación  \\\n",
              "0      16/01/2021      Pedro Gomez          Bogotá             4   \n",
              "1      18/05/2022  Beatriz Morales        Medellín             1   \n",
              "2      15/03/2021   Juan Fernandez       Cartagena             1   \n",
              "3      03/05/2022   Juan Fernandez            Cali             4   \n",
              "4      07/11/2020    Maria Alfonso        Medellín             5   \n",
              "\n",
              "       Método de pago  Cantidad de cuotas       lat       lon  \n",
              "0  Tarjeta de crédito                   8   4.60971 -74.08175  \n",
              "1  Tarjeta de crédito                   4   6.25184 -75.56359  \n",
              "2  Tarjeta de crédito                   1  10.39972 -75.51444  \n",
              "3               Nequi                   1   3.43722 -76.52250  \n",
              "4               Nequi                   1   6.25184 -75.56359  "
            ],
            "text/html": [
              "\n",
              "  <div id=\"df-af3b2d71-2325-4fe1-bbdf-338215dd80da\" class=\"colab-df-container\">\n",
              "    <div>\n",
              "<style scoped>\n",
              "    .dataframe tbody tr th:only-of-type {\n",
              "        vertical-align: middle;\n",
              "    }\n",
              "\n",
              "    .dataframe tbody tr th {\n",
              "        vertical-align: top;\n",
              "    }\n",
              "\n",
              "    .dataframe thead th {\n",
              "        text-align: right;\n",
              "    }\n",
              "</style>\n",
              "<table border=\"1\" class=\"dataframe\">\n",
              "  <thead>\n",
              "    <tr style=\"text-align: right;\">\n",
              "      <th></th>\n",
              "      <th>Producto</th>\n",
              "      <th>Categoría del Producto</th>\n",
              "      <th>Precio</th>\n",
              "      <th>Costo de envío</th>\n",
              "      <th>Fecha de Compra</th>\n",
              "      <th>Vendedor</th>\n",
              "      <th>Lugar de Compra</th>\n",
              "      <th>Calificación</th>\n",
              "      <th>Método de pago</th>\n",
              "      <th>Cantidad de cuotas</th>\n",
              "      <th>lat</th>\n",
              "      <th>lon</th>\n",
              "    </tr>\n",
              "  </thead>\n",
              "  <tbody>\n",
              "    <tr>\n",
              "      <th>0</th>\n",
              "      <td>Asistente virtual</td>\n",
              "      <td>Electrónicos</td>\n",
              "      <td>164300.0</td>\n",
              "      <td>6900.0</td>\n",
              "      <td>16/01/2021</td>\n",
              "      <td>Pedro Gomez</td>\n",
              "      <td>Bogotá</td>\n",
              "      <td>4</td>\n",
              "      <td>Tarjeta de crédito</td>\n",
              "      <td>8</td>\n",
              "      <td>4.60971</td>\n",
              "      <td>-74.08175</td>\n",
              "    </tr>\n",
              "    <tr>\n",
              "      <th>1</th>\n",
              "      <td>Mesa de comedor</td>\n",
              "      <td>Muebles</td>\n",
              "      <td>192300.0</td>\n",
              "      <td>8400.0</td>\n",
              "      <td>18/05/2022</td>\n",
              "      <td>Beatriz Morales</td>\n",
              "      <td>Medellín</td>\n",
              "      <td>1</td>\n",
              "      <td>Tarjeta de crédito</td>\n",
              "      <td>4</td>\n",
              "      <td>6.25184</td>\n",
              "      <td>-75.56359</td>\n",
              "    </tr>\n",
              "    <tr>\n",
              "      <th>2</th>\n",
              "      <td>Juego de mesa</td>\n",
              "      <td>Juguetes</td>\n",
              "      <td>209600.0</td>\n",
              "      <td>15900.0</td>\n",
              "      <td>15/03/2021</td>\n",
              "      <td>Juan Fernandez</td>\n",
              "      <td>Cartagena</td>\n",
              "      <td>1</td>\n",
              "      <td>Tarjeta de crédito</td>\n",
              "      <td>1</td>\n",
              "      <td>10.39972</td>\n",
              "      <td>-75.51444</td>\n",
              "    </tr>\n",
              "    <tr>\n",
              "      <th>3</th>\n",
              "      <td>Microondas</td>\n",
              "      <td>Electrodomésticos</td>\n",
              "      <td>757500.0</td>\n",
              "      <td>41000.0</td>\n",
              "      <td>03/05/2022</td>\n",
              "      <td>Juan Fernandez</td>\n",
              "      <td>Cali</td>\n",
              "      <td>4</td>\n",
              "      <td>Nequi</td>\n",
              "      <td>1</td>\n",
              "      <td>3.43722</td>\n",
              "      <td>-76.52250</td>\n",
              "    </tr>\n",
              "    <tr>\n",
              "      <th>4</th>\n",
              "      <td>Silla de oficina</td>\n",
              "      <td>Muebles</td>\n",
              "      <td>335200.0</td>\n",
              "      <td>20200.0</td>\n",
              "      <td>07/11/2020</td>\n",
              "      <td>Maria Alfonso</td>\n",
              "      <td>Medellín</td>\n",
              "      <td>5</td>\n",
              "      <td>Nequi</td>\n",
              "      <td>1</td>\n",
              "      <td>6.25184</td>\n",
              "      <td>-75.56359</td>\n",
              "    </tr>\n",
              "  </tbody>\n",
              "</table>\n",
              "</div>\n",
              "    <div class=\"colab-df-buttons\">\n",
              "\n",
              "  <div class=\"colab-df-container\">\n",
              "    <button class=\"colab-df-convert\" onclick=\"convertToInteractive('df-af3b2d71-2325-4fe1-bbdf-338215dd80da')\"\n",
              "            title=\"Convert this dataframe to an interactive table.\"\n",
              "            style=\"display:none;\">\n",
              "\n",
              "  <svg xmlns=\"http://www.w3.org/2000/svg\" height=\"24px\" viewBox=\"0 -960 960 960\">\n",
              "    <path d=\"M120-120v-720h720v720H120Zm60-500h600v-160H180v160Zm220 220h160v-160H400v160Zm0 220h160v-160H400v160ZM180-400h160v-160H180v160Zm440 0h160v-160H620v160ZM180-180h160v-160H180v160Zm440 0h160v-160H620v160Z\"/>\n",
              "  </svg>\n",
              "    </button>\n",
              "\n",
              "  <style>\n",
              "    .colab-df-container {\n",
              "      display:flex;\n",
              "      gap: 12px;\n",
              "    }\n",
              "\n",
              "    .colab-df-convert {\n",
              "      background-color: #E8F0FE;\n",
              "      border: none;\n",
              "      border-radius: 50%;\n",
              "      cursor: pointer;\n",
              "      display: none;\n",
              "      fill: #1967D2;\n",
              "      height: 32px;\n",
              "      padding: 0 0 0 0;\n",
              "      width: 32px;\n",
              "    }\n",
              "\n",
              "    .colab-df-convert:hover {\n",
              "      background-color: #E2EBFA;\n",
              "      box-shadow: 0px 1px 2px rgba(60, 64, 67, 0.3), 0px 1px 3px 1px rgba(60, 64, 67, 0.15);\n",
              "      fill: #174EA6;\n",
              "    }\n",
              "\n",
              "    .colab-df-buttons div {\n",
              "      margin-bottom: 4px;\n",
              "    }\n",
              "\n",
              "    [theme=dark] .colab-df-convert {\n",
              "      background-color: #3B4455;\n",
              "      fill: #D2E3FC;\n",
              "    }\n",
              "\n",
              "    [theme=dark] .colab-df-convert:hover {\n",
              "      background-color: #434B5C;\n",
              "      box-shadow: 0px 1px 3px 1px rgba(0, 0, 0, 0.15);\n",
              "      filter: drop-shadow(0px 1px 2px rgba(0, 0, 0, 0.3));\n",
              "      fill: #FFFFFF;\n",
              "    }\n",
              "  </style>\n",
              "\n",
              "    <script>\n",
              "      const buttonEl =\n",
              "        document.querySelector('#df-af3b2d71-2325-4fe1-bbdf-338215dd80da button.colab-df-convert');\n",
              "      buttonEl.style.display =\n",
              "        google.colab.kernel.accessAllowed ? 'block' : 'none';\n",
              "\n",
              "      async function convertToInteractive(key) {\n",
              "        const element = document.querySelector('#df-af3b2d71-2325-4fe1-bbdf-338215dd80da');\n",
              "        const dataTable =\n",
              "          await google.colab.kernel.invokeFunction('convertToInteractive',\n",
              "                                                    [key], {});\n",
              "        if (!dataTable) return;\n",
              "\n",
              "        const docLinkHtml = 'Like what you see? Visit the ' +\n",
              "          '<a target=\"_blank\" href=https://colab.research.google.com/notebooks/data_table.ipynb>data table notebook</a>'\n",
              "          + ' to learn more about interactive tables.';\n",
              "        element.innerHTML = '';\n",
              "        dataTable['output_type'] = 'display_data';\n",
              "        await google.colab.output.renderOutput(dataTable, element);\n",
              "        const docLink = document.createElement('div');\n",
              "        docLink.innerHTML = docLinkHtml;\n",
              "        element.appendChild(docLink);\n",
              "      }\n",
              "    </script>\n",
              "  </div>\n",
              "\n",
              "\n",
              "    <div id=\"df-80d661f9-e9d3-4be7-a1bc-7649de82d414\">\n",
              "      <button class=\"colab-df-quickchart\" onclick=\"quickchart('df-80d661f9-e9d3-4be7-a1bc-7649de82d414')\"\n",
              "                title=\"Suggest charts\"\n",
              "                style=\"display:none;\">\n",
              "\n",
              "<svg xmlns=\"http://www.w3.org/2000/svg\" height=\"24px\"viewBox=\"0 0 24 24\"\n",
              "     width=\"24px\">\n",
              "    <g>\n",
              "        <path d=\"M19 3H5c-1.1 0-2 .9-2 2v14c0 1.1.9 2 2 2h14c1.1 0 2-.9 2-2V5c0-1.1-.9-2-2-2zM9 17H7v-7h2v7zm4 0h-2V7h2v10zm4 0h-2v-4h2v4z\"/>\n",
              "    </g>\n",
              "</svg>\n",
              "      </button>\n",
              "\n",
              "<style>\n",
              "  .colab-df-quickchart {\n",
              "      --bg-color: #E8F0FE;\n",
              "      --fill-color: #1967D2;\n",
              "      --hover-bg-color: #E2EBFA;\n",
              "      --hover-fill-color: #174EA6;\n",
              "      --disabled-fill-color: #AAA;\n",
              "      --disabled-bg-color: #DDD;\n",
              "  }\n",
              "\n",
              "  [theme=dark] .colab-df-quickchart {\n",
              "      --bg-color: #3B4455;\n",
              "      --fill-color: #D2E3FC;\n",
              "      --hover-bg-color: #434B5C;\n",
              "      --hover-fill-color: #FFFFFF;\n",
              "      --disabled-bg-color: #3B4455;\n",
              "      --disabled-fill-color: #666;\n",
              "  }\n",
              "\n",
              "  .colab-df-quickchart {\n",
              "    background-color: var(--bg-color);\n",
              "    border: none;\n",
              "    border-radius: 50%;\n",
              "    cursor: pointer;\n",
              "    display: none;\n",
              "    fill: var(--fill-color);\n",
              "    height: 32px;\n",
              "    padding: 0;\n",
              "    width: 32px;\n",
              "  }\n",
              "\n",
              "  .colab-df-quickchart:hover {\n",
              "    background-color: var(--hover-bg-color);\n",
              "    box-shadow: 0 1px 2px rgba(60, 64, 67, 0.3), 0 1px 3px 1px rgba(60, 64, 67, 0.15);\n",
              "    fill: var(--button-hover-fill-color);\n",
              "  }\n",
              "\n",
              "  .colab-df-quickchart-complete:disabled,\n",
              "  .colab-df-quickchart-complete:disabled:hover {\n",
              "    background-color: var(--disabled-bg-color);\n",
              "    fill: var(--disabled-fill-color);\n",
              "    box-shadow: none;\n",
              "  }\n",
              "\n",
              "  .colab-df-spinner {\n",
              "    border: 2px solid var(--fill-color);\n",
              "    border-color: transparent;\n",
              "    border-bottom-color: var(--fill-color);\n",
              "    animation:\n",
              "      spin 1s steps(1) infinite;\n",
              "  }\n",
              "\n",
              "  @keyframes spin {\n",
              "    0% {\n",
              "      border-color: transparent;\n",
              "      border-bottom-color: var(--fill-color);\n",
              "      border-left-color: var(--fill-color);\n",
              "    }\n",
              "    20% {\n",
              "      border-color: transparent;\n",
              "      border-left-color: var(--fill-color);\n",
              "      border-top-color: var(--fill-color);\n",
              "    }\n",
              "    30% {\n",
              "      border-color: transparent;\n",
              "      border-left-color: var(--fill-color);\n",
              "      border-top-color: var(--fill-color);\n",
              "      border-right-color: var(--fill-color);\n",
              "    }\n",
              "    40% {\n",
              "      border-color: transparent;\n",
              "      border-right-color: var(--fill-color);\n",
              "      border-top-color: var(--fill-color);\n",
              "    }\n",
              "    60% {\n",
              "      border-color: transparent;\n",
              "      border-right-color: var(--fill-color);\n",
              "    }\n",
              "    80% {\n",
              "      border-color: transparent;\n",
              "      border-right-color: var(--fill-color);\n",
              "      border-bottom-color: var(--fill-color);\n",
              "    }\n",
              "    90% {\n",
              "      border-color: transparent;\n",
              "      border-bottom-color: var(--fill-color);\n",
              "    }\n",
              "  }\n",
              "</style>\n",
              "\n",
              "      <script>\n",
              "        async function quickchart(key) {\n",
              "          const quickchartButtonEl =\n",
              "            document.querySelector('#' + key + ' button');\n",
              "          quickchartButtonEl.disabled = true;  // To prevent multiple clicks.\n",
              "          quickchartButtonEl.classList.add('colab-df-spinner');\n",
              "          try {\n",
              "            const charts = await google.colab.kernel.invokeFunction(\n",
              "                'suggestCharts', [key], {});\n",
              "          } catch (error) {\n",
              "            console.error('Error during call to suggestCharts:', error);\n",
              "          }\n",
              "          quickchartButtonEl.classList.remove('colab-df-spinner');\n",
              "          quickchartButtonEl.classList.add('colab-df-quickchart-complete');\n",
              "        }\n",
              "        (() => {\n",
              "          let quickchartButtonEl =\n",
              "            document.querySelector('#df-80d661f9-e9d3-4be7-a1bc-7649de82d414 button');\n",
              "          quickchartButtonEl.style.display =\n",
              "            google.colab.kernel.accessAllowed ? 'block' : 'none';\n",
              "        })();\n",
              "      </script>\n",
              "    </div>\n",
              "\n",
              "    </div>\n",
              "  </div>\n"
            ],
            "application/vnd.google.colaboratory.intrinsic+json": {
              "type": "dataframe",
              "variable_name": "tienda",
              "summary": "{\n  \"name\": \"tienda\",\n  \"rows\": 2359,\n  \"fields\": [\n    {\n      \"column\": \"Producto\",\n      \"properties\": {\n        \"dtype\": \"category\",\n        \"num_unique_values\": 51,\n        \"samples\": [\n          \"Guitarra ac\\u00fastica\",\n          \"Bal\\u00f3n de baloncesto\",\n          \"Smartwatch\"\n        ],\n        \"semantic_type\": \"\",\n        \"description\": \"\"\n      }\n    },\n    {\n      \"column\": \"Categor\\u00eda del Producto\",\n      \"properties\": {\n        \"dtype\": \"category\",\n        \"num_unique_values\": 8,\n        \"samples\": [\n          \"Muebles\",\n          \"Deportes y diversi\\u00f3n\",\n          \"Electr\\u00f3nicos\"\n        ],\n        \"semantic_type\": \"\",\n        \"description\": \"\"\n      }\n    },\n    {\n      \"column\": \"Precio\",\n      \"properties\": {\n        \"dtype\": \"number\",\n        \"std\": 614686.7653873172,\n        \"min\": 7600.0,\n        \"max\": 2977000.0,\n        \"num_unique_values\": 1937,\n        \"samples\": [\n          2499400.0,\n          14800.0,\n          80500.0\n        ],\n        \"semantic_type\": \"\",\n        \"description\": \"\"\n      }\n    },\n    {\n      \"column\": \"Costo de env\\u00edo\",\n      \"properties\": {\n        \"dtype\": \"number\",\n        \"std\": 32860.0017825605,\n        \"min\": 0.0,\n        \"max\": 160800.0,\n        \"num_unique_values\": 753,\n        \"samples\": [\n          117800.0,\n          54700.0,\n          45600.0\n        ],\n        \"semantic_type\": \"\",\n        \"description\": \"\"\n      }\n    },\n    {\n      \"column\": \"Fecha de Compra\",\n      \"properties\": {\n        \"dtype\": \"object\",\n        \"num_unique_values\": 1018,\n        \"samples\": [\n          \"15/09/2022\",\n          \"03/06/2020\",\n          \"06/11/2021\"\n        ],\n        \"semantic_type\": \"\",\n        \"description\": \"\"\n      }\n    },\n    {\n      \"column\": \"Vendedor\",\n      \"properties\": {\n        \"dtype\": \"category\",\n        \"num_unique_values\": 14,\n        \"samples\": [\n          \"Juliana Costa\",\n          \"Mariana Herrera\",\n          \"Pedro Gomez\"\n        ],\n        \"semantic_type\": \"\",\n        \"description\": \"\"\n      }\n    },\n    {\n      \"column\": \"Lugar de Compra\",\n      \"properties\": {\n        \"dtype\": \"category\",\n        \"num_unique_values\": 19,\n        \"samples\": [\n          \"Bogot\\u00e1\",\n          \"Pereira\",\n          \"Neiva\"\n        ],\n        \"semantic_type\": \"\",\n        \"description\": \"\"\n      }\n    },\n    {\n      \"column\": \"Calificaci\\u00f3n\",\n      \"properties\": {\n        \"dtype\": \"number\",\n        \"std\": 1,\n        \"min\": 1,\n        \"max\": 5,\n        \"num_unique_values\": 5,\n        \"samples\": [\n          1,\n          2,\n          5\n        ],\n        \"semantic_type\": \"\",\n        \"description\": \"\"\n      }\n    },\n    {\n      \"column\": \"M\\u00e9todo de pago\",\n      \"properties\": {\n        \"dtype\": \"category\",\n        \"num_unique_values\": 4,\n        \"samples\": [\n          \"Nequi\",\n          \"Tarjeta de d\\u00e9bito\",\n          \"Tarjeta de cr\\u00e9dito\"\n        ],\n        \"semantic_type\": \"\",\n        \"description\": \"\"\n      }\n    },\n    {\n      \"column\": \"Cantidad de cuotas\",\n      \"properties\": {\n        \"dtype\": \"number\",\n        \"std\": 2,\n        \"min\": 1,\n        \"max\": 24,\n        \"num_unique_values\": 15,\n        \"samples\": [\n          7,\n          14,\n          8\n        ],\n        \"semantic_type\": \"\",\n        \"description\": \"\"\n      }\n    },\n    {\n      \"column\": \"lat\",\n      \"properties\": {\n        \"dtype\": \"number\",\n        \"std\": 2.2874452492678627,\n        \"min\": -4.21528,\n        \"max\": 11.54444,\n        \"num_unique_values\": 19,\n        \"samples\": [\n          4.60971,\n          4.81333,\n          2.9273\n        ],\n        \"semantic_type\": \"\",\n        \"description\": \"\"\n      }\n    },\n    {\n      \"column\": \"lon\",\n      \"properties\": {\n        \"dtype\": \"number\",\n        \"std\": 1.2178272727088486,\n        \"min\": -77.28111,\n        \"max\": -67.9239,\n        \"num_unique_values\": 19,\n        \"samples\": [\n          -74.08175,\n          -75.69611,\n          -75.28189\n        ],\n        \"semantic_type\": \"\",\n        \"description\": \"\"\n      }\n    }\n  ]\n}"
            }
          },
          "metadata": {},
          "execution_count": 3
        }
      ],
      "source": [
        "import pandas as pd\n",
        "\n",
        "url = \"https://raw.githubusercontent.com/alura-es-cursos/challenge1-data-science-latam/refs/heads/main/base-de-datos-challenge1-latam/tienda_1%20.csv\"\n",
        "url2 = \"https://raw.githubusercontent.com/alura-es-cursos/challenge1-data-science-latam/refs/heads/main/base-de-datos-challenge1-latam/tienda_2.csv\"\n",
        "url3 = \"https://raw.githubusercontent.com/alura-es-cursos/challenge1-data-science-latam/refs/heads/main/base-de-datos-challenge1-latam/tienda_3.csv\"\n",
        "url4 = \"https://raw.githubusercontent.com/alura-es-cursos/challenge1-data-science-latam/refs/heads/main/base-de-datos-challenge1-latam/tienda_4.csv\"\n",
        "\n",
        "tienda1 = pd.read_csv(url)\n",
        "tienda2 = pd.read_csv(url2)\n",
        "tienda3 = pd.read_csv(url3)\n",
        "tienda4 = pd.read_csv(url4)\n",
        "\n",
        "tienda.head()"
      ]
    },
    {
      "cell_type": "code",
      "source": [
        "# Agregar columna de tienda a cada dataframe\n",
        "tienda1['tienda'] = 'Tienda 1'\n",
        "tienda2['tienda'] = 'Tienda 2'\n",
        "tienda3['tienda'] = 'Tienda 3'\n",
        "tienda4['tienda'] = 'Tienda 4'\n",
        "\n",
        "# Combinar todos los datos\n",
        "df_completo = pd.concat([tienda1, tienda2, tienda3, tienda4], ignore_index=True)\n",
        "\n",
        "# Verificar y limpiar datos\n",
        "print(\"Información del dataset combinado:\")\n",
        "print(df_completo.info())\n",
        "print(\"\\nValores nulos:\")\n",
        "print(df_completo.isnull().sum())\n",
        "\n",
        "# Convertir columnas numéricas si es necesario\n",
        "df_completo['Precio'] = pd.to_numeric(df_completo['Precio'], errors='coerce')\n",
        "df_completo['Costo de envío'] = pd.to_numeric(df_completo['Costo de envío'], errors='coerce')\n",
        "df_completo['Calificación'] = pd.to_numeric(df_completo['Calificación'], errors='coerce')\n",
        "\n",
        "\n",
        "# Eliminar filas con valores nulos en columnas importantes\n",
        "df_completo = df_completo.dropna(subset=['Precio', 'Costo de envío', 'Calificación'])"
      ],
      "metadata": {
        "colab": {
          "base_uri": "https://localhost:8080/"
        },
        "id": "KjYdL-UCSZ3L",
        "outputId": "a2301328-5bc3-482f-aad0-82c06f49ed26"
      },
      "execution_count": null,
      "outputs": [
        {
          "output_type": "stream",
          "name": "stdout",
          "text": [
            "Información del dataset combinado:\n",
            "<class 'pandas.core.frame.DataFrame'>\n",
            "RangeIndex: 9435 entries, 0 to 9434\n",
            "Data columns (total 13 columns):\n",
            " #   Column                  Non-Null Count  Dtype  \n",
            "---  ------                  --------------  -----  \n",
            " 0   Producto                9435 non-null   object \n",
            " 1   Categoría del Producto  9435 non-null   object \n",
            " 2   Precio                  9435 non-null   float64\n",
            " 3   Costo de envío          9435 non-null   float64\n",
            " 4   Fecha de Compra         9435 non-null   object \n",
            " 5   Vendedor                9435 non-null   object \n",
            " 6   Lugar de Compra         9435 non-null   object \n",
            " 7   Calificación            9435 non-null   int64  \n",
            " 8   Método de pago          9435 non-null   object \n",
            " 9   Cantidad de cuotas      9435 non-null   int64  \n",
            " 10  lat                     9435 non-null   float64\n",
            " 11  lon                     9435 non-null   float64\n",
            " 12  tienda                  9435 non-null   object \n",
            "dtypes: float64(4), int64(2), object(7)\n",
            "memory usage: 958.4+ KB\n",
            "None\n",
            "\n",
            "Valores nulos:\n",
            "Producto                  0\n",
            "Categoría del Producto    0\n",
            "Precio                    0\n",
            "Costo de envío            0\n",
            "Fecha de Compra           0\n",
            "Vendedor                  0\n",
            "Lugar de Compra           0\n",
            "Calificación              0\n",
            "Método de pago            0\n",
            "Cantidad de cuotas        0\n",
            "lat                       0\n",
            "lon                       0\n",
            "tienda                    0\n",
            "dtype: int64\n"
          ]
        }
      ]
    },
    {
      "cell_type": "markdown",
      "metadata": {
        "id": "X62IW3KFUIYm"
      },
      "source": [
        "#1. Análisis de facturación\n",
        "\n"
      ]
    },
    {
      "cell_type": "code",
      "execution_count": null,
      "metadata": {
        "id": "xykobSftV64I",
        "colab": {
          "base_uri": "https://localhost:8080/"
        },
        "outputId": "97dc20da-23c5-4ba3-b50e-939f8b70e377"
      },
      "outputs": [
        {
          "output_type": "stream",
          "name": "stdout",
          "text": [
            "Facturación total por tienda:\n",
            "tienda\n",
            "Tienda 1    1.150880e+09\n",
            "Tienda 2    1.116344e+09\n",
            "Tienda 3    1.098020e+09\n",
            "Tienda 4    1.038376e+09\n",
            "Name: Precio, dtype: float64\n",
            "\n",
            "Facturación promedio por venta:\n",
            "tienda\n",
            "Tienda 1    487867.910131\n",
            "Tienda 2    473227.426876\n",
            "Tienda 3    465459.771089\n",
            "Tienda 4    440362.892282\n",
            "Name: Precio, dtype: float64\n"
          ]
        }
      ],
      "source": [
        "# Calcular facturación total por tienda\n",
        "facturacion_por_tienda = df_completo.groupby('tienda')['Precio'].sum()\n",
        "print(\"Facturación total por tienda:\")\n",
        "print(facturacion_por_tienda)\n",
        "\n",
        "# Facturación promedio por venta\n",
        "facturacion_promedio = df_completo.groupby('tienda')['Precio'].mean()\n",
        "print(\"\\nFacturación promedio por venta:\")\n",
        "print(facturacion_promedio)"
      ]
    },
    {
      "cell_type": "markdown",
      "metadata": {
        "id": "2V_vcAPzWZmR"
      },
      "source": [
        "# 2. Ventas por categoría"
      ]
    },
    {
      "cell_type": "code",
      "execution_count": null,
      "metadata": {
        "id": "A34YupIuYhfF",
        "colab": {
          "base_uri": "https://localhost:8080/"
        },
        "outputId": "b9c21d54-d85a-4ca6-bfa9-2e62f2319a71"
      },
      "outputs": [
        {
          "output_type": "stream",
          "name": "stdout",
          "text": [
            "Ventas por categoría:\n",
            "Categoría del Producto\n",
            "Muebles                    1886\n",
            "Electrónicos               1772\n",
            "Juguetes                   1290\n",
            "Electrodomésticos          1149\n",
            "Deportes y diversión       1113\n",
            "Instrumentos musicales      753\n",
            "Libros                      742\n",
            "Artículos para el hogar     730\n",
            "dtype: int64\n",
            "\n",
            "Ventas por categoría por tienda:\n",
            "Categoría del Producto  Artículos para el hogar  Deportes y diversión  \\\n",
            "tienda                                                                  \n",
            "Tienda 1                                    171                   284   \n",
            "Tienda 2                                    181                   275   \n",
            "Tienda 3                                    177                   277   \n",
            "Tienda 4                                    201                   277   \n",
            "\n",
            "Categoría del Producto  Electrodomésticos  Electrónicos  \\\n",
            "tienda                                                    \n",
            "Tienda 1                              312           448   \n",
            "Tienda 2                              305           422   \n",
            "Tienda 3                              278           451   \n",
            "Tienda 4                              254           451   \n",
            "\n",
            "Categoría del Producto  Instrumentos musicales  Juguetes  Libros  Muebles  \n",
            "tienda                                                                     \n",
            "Tienda 1                                   182       324     173      465  \n",
            "Tienda 2                                   224       313     197      442  \n",
            "Tienda 3                                   177       315     185      499  \n",
            "Tienda 4                                   170       338     187      480  \n"
          ]
        }
      ],
      "source": [
        "# Ventas por categoría en todas las tiendas\n",
        "ventas_por_categoria = df_completo.groupby('Categoría del Producto').size().sort_values(ascending=False)\n",
        "print(\"Ventas por categoría:\")\n",
        "print(ventas_por_categoria)\n",
        "\n",
        "# Ventas por categoría por tienda\n",
        "ventas_categoria_tienda = df_completo.groupby(['tienda', 'Categoría del Producto']).size().unstack(fill_value=0)\n",
        "print(\"\\nVentas por categoría por tienda:\")\n",
        "print(ventas_categoria_tienda)"
      ]
    },
    {
      "cell_type": "markdown",
      "metadata": {
        "id": "Rq6tU_xSY3jk"
      },
      "source": [
        "# 3. Calificación promedio de la tienda\n"
      ]
    },
    {
      "cell_type": "code",
      "execution_count": null,
      "metadata": {
        "id": "bh3jjjJwY5MU",
        "colab": {
          "base_uri": "https://localhost:8080/"
        },
        "outputId": "2d071e8e-2309-4db8-93a8-9430b62eaf69"
      },
      "outputs": [
        {
          "output_type": "stream",
          "name": "stdout",
          "text": [
            "Calificación promedio por tienda:\n",
            "tienda\n",
            "Tienda 1    3.98\n",
            "Tienda 2    4.04\n",
            "Tienda 3    4.05\n",
            "Tienda 4    4.00\n",
            "Name: Calificación, dtype: float64\n"
          ]
        }
      ],
      "source": [
        "calificacion_promedio = df_completo.groupby('tienda')['Calificación'].mean()\n",
        "print(\"Calificación promedio por tienda:\")\n",
        "print(calificacion_promedio.round(2))"
      ]
    },
    {
      "cell_type": "markdown",
      "metadata": {
        "id": "DmNp1KPBZCm-"
      },
      "source": [
        "# 4. Productos más y menos vendidos"
      ]
    },
    {
      "cell_type": "code",
      "execution_count": 26,
      "metadata": {
        "id": "S2JeaCykZNy9",
        "colab": {
          "base_uri": "https://localhost:8080/"
        },
        "outputId": "a57414be-1b5c-4882-918a-bd8a921621c9"
      },
      "outputs": [
        {
          "output_type": "stream",
          "name": "stdout",
          "text": [
            "Productos más vendidos:\n",
            "Producto\n",
            "Mesa de noche                210\n",
            "Carrito de control remoto    206\n",
            "Microondas                   206\n",
            "Batería                      203\n",
            "Cama king                    201\n",
            "Secadora de ropa             200\n",
            "Modelado predictivo          200\n",
            "Set de ollas                 200\n",
            "Cama box                     199\n",
            "Bloques de construcción      199\n",
            "Name: count, dtype: int64\n",
            "\n",
            "Productos menos vendidos:\n",
            "Producto\n",
            "Olla de presión                172\n",
            "Smartwatch                     172\n",
            "Set de vasos                   169\n",
            "Sillón                         168\n",
            "Asistente virtual              167\n",
            "Ciencia de datos con Python    166\n",
            "Guitarra eléctrica             165\n",
            "Mochila                        163\n",
            "Auriculares con micrófono      158\n",
            "Celular ABXY                   157\n",
            "Name: count, dtype: int64\n",
            "\n",
            "Tienda Tienda 1:\n",
            "Top 5 productos:\n",
            "Producto\n",
            "Microondas          60\n",
            "TV LED UHD 4K       60\n",
            "Armario             60\n",
            "Secadora de ropa    58\n",
            "Mesa de noche       56\n",
            "Name: count, dtype: int64\n",
            "\n",
            "Tienda Tienda 2:\n",
            "Top 5 productos:\n",
            "Producto\n",
            "Iniciando en programación    65\n",
            "Microondas                   62\n",
            "Batería                      61\n",
            "Guitarra acústica            58\n",
            "Pandereta                    58\n",
            "Name: count, dtype: int64\n",
            "\n",
            "Tienda Tienda 3:\n",
            "Top 5 productos:\n",
            "Producto\n",
            "Kit de bancas      57\n",
            "Mesa de comedor    56\n",
            "Cama king          56\n",
            "Set de ollas       55\n",
            "Mesa de noche      55\n",
            "Name: count, dtype: int64\n",
            "\n",
            "Tienda Tienda 4:\n",
            "Top 5 productos:\n",
            "Producto\n",
            "Cama box                     62\n",
            "Cubertería                   59\n",
            "Dashboards con Power BI      56\n",
            "Cama king                    56\n",
            "Carrito de control remoto    55\n",
            "Name: count, dtype: int64\n"
          ]
        }
      ],
      "source": [
        "# Productos más vendidos (top 10)\n",
        "productos_mas_vendidos = df_completo['Producto'].value_counts().head(10)\n",
        "print(\"Productos más vendidos:\")\n",
        "print(productos_mas_vendidos)\n",
        "\n",
        "# Productos menos vendidos (últimos 10)\n",
        "productos_menos_vendidos = df_completo['Producto'].value_counts().tail(10)\n",
        "print(\"\\nProductos menos vendidos:\")\n",
        "print(productos_menos_vendidos)\n",
        "\n",
        "# Por tienda\n",
        "for tienda in df_completo['tienda'].unique():\n",
        "    print(f\"\\nTienda {tienda}:\")\n",
        "    print(\"Top 5 productos:\")\n",
        "    print(df_completo[df_completo['tienda'] == tienda]['Producto'].value_counts().head(5))"
      ]
    },
    {
      "cell_type": "markdown",
      "metadata": {
        "id": "Fl0cGi3bZKqU"
      },
      "source": [
        "# 5. Envío promedio por tienda"
      ]
    },
    {
      "cell_type": "code",
      "execution_count": 27,
      "metadata": {
        "id": "0tSdCie9ZQlt",
        "colab": {
          "base_uri": "https://localhost:8080/"
        },
        "outputId": "af0a0669-8747-482c-eef5-eee381d17722"
      },
      "outputs": [
        {
          "output_type": "stream",
          "name": "stdout",
          "text": [
            "Costo promedio de envío por tienda:\n",
            "tienda\n",
            "Tienda 1    26018.61\n",
            "Tienda 2    25216.24\n",
            "Tienda 3    24805.68\n",
            "Tienda 4    23459.46\n",
            "Name: Costo de envío, dtype: float64\n",
            "\n",
            "Porcentaje de costo de envío sobre precio promedio:\n",
            "tienda\n",
            "Tienda 1    5.33\n",
            "Tienda 2    5.33\n",
            "Tienda 3    5.33\n",
            "Tienda 4    5.33\n",
            "dtype: float64\n"
          ]
        }
      ],
      "source": [
        "Costo_envio_promedio = df_completo.groupby('tienda')['Costo de envío'].mean()\n",
        "print(\"Costo promedio de envío por tienda:\")\n",
        "print(Costo_envio_promedio.round(2))\n",
        "\n",
        "# Relación costo envío vs precio\n",
        "relacion_envio_precio = (df_completo.groupby('tienda')['Costo de envío'].mean() /\n",
        "                        df_completo.groupby('tienda')['Precio'].mean()) * 100\n",
        "print(\"\\nPorcentaje de costo de envío sobre precio promedio:\")\n",
        "print(relacion_envio_precio.round(2))"
      ]
    },
    {
      "cell_type": "markdown",
      "source": [
        "###Conclusiones"
      ],
      "metadata": {
        "id": "JiwHbdrsUdDL"
      }
    },
    {
      "cell_type": "code",
      "source": [
        "# Análisis comparativo completo\n",
        "print(\"=== ANÁLISIS COMPARATIVO COMPLETO ===\")\n",
        "\n",
        "# Crear dataframe resumen\n",
        "resumen_tiendas = pd.DataFrame({\n",
        "    'Facturación Total': facturacion_por_tienda,\n",
        "    'Facturación Promedio': facturacion_promedio,\n",
        "    'Calificación Promedio': calificacion_promedio,\n",
        "    'Costo Envío Promedio': Costo_envio_promedio,\n",
        "    'Porcentaje Envío/Precio': relacion_envio_precio,\n",
        "    'Total Ventas': df_completo.groupby('tienda').size()\n",
        "})\n",
        "\n",
        "print(resumen_tiendas.round(2))\n",
        "\n",
        "# Eficiencia (facturación por costo de envío)\n",
        "resumen_tiendas['Eficiencia'] = resumen_tiendas['Facturación Total'] / resumen_tiendas['Costo Envío Promedio']\n",
        "print(\"\\nEficiencia (Facturación/Costo de envío):\")\n",
        "print(resumen_tiendas['Eficiencia'].round(2))"
      ],
      "metadata": {
        "colab": {
          "base_uri": "https://localhost:8080/"
        },
        "id": "-YuZ5X9pUJyj",
        "outputId": "d3c18a6e-d87a-4ded-ba86-7574583abd9e"
      },
      "execution_count": 28,
      "outputs": [
        {
          "output_type": "stream",
          "name": "stdout",
          "text": [
            "=== ANÁLISIS COMPARATIVO COMPLETO ===\n",
            "          Facturación Total  Facturación Promedio  Calificación Promedio  \\\n",
            "tienda                                                                     \n",
            "Tienda 1       1.150880e+09             487867.91                   3.98   \n",
            "Tienda 2       1.116344e+09             473227.43                   4.04   \n",
            "Tienda 3       1.098020e+09             465459.77                   4.05   \n",
            "Tienda 4       1.038376e+09             440362.89                   4.00   \n",
            "\n",
            "          Costo Envío Promedio  Porcentaje Envío/Precio  Total Ventas  \n",
            "tienda                                                                 \n",
            "Tienda 1              26018.61                     5.33          2359  \n",
            "Tienda 2              25216.24                     5.33          2359  \n",
            "Tienda 3              24805.68                     5.33          2359  \n",
            "Tienda 4              23459.46                     5.33          2358  \n",
            "\n",
            "Eficiencia (Facturación/Costo de envío):\n",
            "tienda\n",
            "Tienda 1    44232.97\n",
            "Tienda 2    44270.82\n",
            "Tienda 3    44264.85\n",
            "Tienda 4    44262.56\n",
            "Name: Eficiencia, dtype: float64\n"
          ]
        }
      ]
    },
    {
      "cell_type": "markdown",
      "source": [
        "### Visualización"
      ],
      "metadata": {
        "id": "iOW59eUvU_nr"
      }
    },
    {
      "cell_type": "code",
      "source": [
        "# Gráficos comparativos\n",
        "import matplotlib.pyplot as plt\n",
        "plt.figure(figsize=(15, 10))\n",
        "\n",
        "plt.subplot(2, 2, 1)\n",
        "resumen_tiendas['Facturación Total'].plot(kind='bar', color='skyblue')\n",
        "plt.title('Facturación Total por Tienda')\n",
        "plt.xticks(rotation=45)\n",
        "\n",
        "plt.subplot(2, 2, 2)\n",
        "resumen_tiendas['Calificación Promedio'].plot(kind='bar', color='lightgreen')\n",
        "plt.title('Calificación Promedio por Tienda')\n",
        "plt.xticks(rotation=45)\n",
        "\n",
        "plt.subplot(2, 2, 3)\n",
        "resumen_tiendas['Costo Envío Promedio'].plot(kind='bar', color='salmon')\n",
        "plt.title('Costo de Envío Promedio por Tienda')\n",
        "plt.xticks(rotation=45)\n",
        "\n",
        "plt.subplot(2, 2, 4)\n",
        "resumen_tiendas['Eficiencia'].plot(kind='bar', color='orange')\n",
        "plt.title('Eficiencia (Facturación/Costo Envío) por Tienda')\n",
        "plt.xticks(rotation=45)\n",
        "\n",
        "plt.tight_layout()\n",
        "plt.show()"
      ],
      "metadata": {
        "colab": {
          "base_uri": "https://localhost:8080/",
          "height": 831
        },
        "id": "O_ijTiAeUxni",
        "outputId": "63c42e13-7b4f-47aa-9179-707d4f0156b3"
      },
      "execution_count": 29,
      "outputs": [
        {
          "output_type": "display_data",
          "data": {
            "text/plain": [
              "<Figure size 1500x1000 with 4 Axes>"
            ],
            "image/png": "[encoded data removed]"
          },
          "metadata": {}
        }
      ]
    },
    {
      "cell_type": "markdown",
      "source": [
        "# Comentario final:\n",
        "\n",
        "El análisis muestra claramente que la tienda 1 tiene la peor eficiencia operativa(basado en relación a su facturación y costo de envío), junto a otros indicadores clave de desempeño. Por tanto **la tienda 1** es la recomendada para vender."
      ],
      "metadata": {
        "id": "g98vksucVPqa"
      }
    },
    {
      "cell_type": "markdown",
      "source": [
        "### Recomendación de tienda a vender"
      ],
      "metadata": {
        "id": "_x6qbihmUr0T"
      }
    },
    {
      "cell_type": "code",
      "source": [
        "# Identificar la tienda menos eficiente\n",
        "tienda_menos_eficiente = resumen_tiendas['Eficiencia'].idxmin()\n",
        "print(f\"\\nLa tienda menos eficiente es: {tienda_menos_eficiente}\")\n",
        "\n",
        "# Razones para la recomendación\n",
        "print(\"\\nRazones para recomendar la venta de esta tienda:\")\n",
        "print(f\"1. Eficiencia más baja: {resumen_tiendas.loc[tienda_menos_eficiente, 'Eficiencia']:.2f}\")\n",
        "print(f\"2. Costo de envío más alto: ${resumen_tiendas.loc[tienda_menos_eficiente, 'Costo Envío Promedio']:.2f}\")\n",
        "print(f\"3. Porcentaje envío/precio: {resumen_tiendas.loc[tienda_menos_eficiente, 'Porcentaje Envío/Precio']:.2f}%\")\n",
        "\n",
        "# Comparativa con la mejor tienda\n",
        "mejor_tienda = resumen_tiendas['Eficiencia'].idxmax()\n",
        "print(f\"\\nComparativa con la mejor tienda ({mejor_tienda}):\")\n",
        "print(f\"Diferencia en eficiencia: {resumen_tiendas.loc[mejor_tienda, 'Eficiencia'] - resumen_tiendas.loc[tienda_menos_eficiente, 'Eficiencia']:.2f}\")"
      ],
      "metadata": {
        "colab": {
          "base_uri": "https://localhost:8080/"
        },
        "id": "MDu_5wmsUawb",
        "outputId": "a41fd61e-bb09-472d-e947-33508c510d1b"
      },
      "execution_count": 30,
      "outputs": [
        {
          "output_type": "stream",
          "name": "stdout",
          "text": [
            "\n",
            "La tienda menos eficiente es: Tienda 1\n",
            "\n",
            "Razones para recomendar la venta de esta tienda:\n",
            "1. Eficiencia más baja: 44232.97\n",
            "2. Costo de envío más alto: $26018.61\n",
            "3. Porcentaje envío/precio: 5.33%\n",
            "\n",
            "Comparativa con la mejor tienda (Tienda 2):\n",
            "Diferencia en eficiencia: 37.85\n"
          ]
        }
      ]
    },
    {
      "cell_type": "code",
      "source": [],
      "metadata": {
        "id": "u9lKHOyyV_x6"
      },
      "execution_count": null,
      "outputs": []
    }
  ],
  "metadata": {
    "colab": {
      "provenance": []
    },
    "kernelspec": {
      "display_name": "Python 3 (ipykernel)",
      "language": "python",
      "name": "python3"
    },
    "language_info": {
      "codemirror_mode": {
        "name": "ipython",
        "version": 3
      },
      "file_extension": ".py",
      "mimetype": "text/x-python",
      "name": "python",
      "nbconvert_exporter": "python",
      "pygments_lexer": "ipython3",
      "version": "3.12.2"
    }
  },
  "nbformat": 4,
  "nbformat_minor": 0
}